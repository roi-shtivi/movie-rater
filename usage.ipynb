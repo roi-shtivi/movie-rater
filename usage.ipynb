{
 "cells": [
  {
   "cell_type": "code",
   "execution_count": 1,
   "metadata": {},
   "outputs": [],
   "source": [
    "import yes_planet"
   ]
  },
  {
   "cell_type": "code",
   "execution_count": 2,
   "metadata": {},
   "outputs": [],
   "source": [
    "movies = yes_planet.get_movies(\"Rishon LeZion\")"
   ]
  },
  {
   "cell_type": "code",
   "execution_count": 5,
   "metadata": {},
   "outputs": [
    {
     "name": "stdout",
     "output_type": "stream",
     "text": [
      "bohemian rhapsody: 8.4/10 (121628)\n",
      "a star is born: 8.2/10 (102817)\n",
      "harmony: 8.1/10 (24)\n",
      "shoplifters: 8.1/10 (4519)\n",
      "creed 2: 8.1/10 (5737)\n",
      "two tails: 8.1/10 (703)\n",
      "srohim: 8.1/10 (51)\n",
      "incredibles 2: 7.9/10 (139465)\n",
      "ralph breaks the internet: 7.7/10 (6799)\n",
      "instant family: 7.7/10 (2066)\n"
     ]
    }
   ],
   "source": [
    "for movie in sorted(movies.values(), reverse=True)[:10]:\n",
    "    print(movie)"
   ]
  },
  {
   "cell_type": "code",
   "execution_count": null,
   "metadata": {},
   "outputs": [],
   "source": []
  }
 ],
 "metadata": {
  "kernelspec": {
   "display_name": "Python 3",
   "language": "python",
   "name": "python3"
  },
  "language_info": {
   "codemirror_mode": {
    "name": "ipython",
    "version": 3
   },
   "file_extension": ".py",
   "mimetype": "text/x-python",
   "name": "python",
   "nbconvert_exporter": "python",
   "pygments_lexer": "ipython3",
   "version": "3.6.3"
  }
 },
 "nbformat": 4,
 "nbformat_minor": 2
}
