{
 "cells": [
  {
   "cell_type": "code",
   "execution_count": 2,
   "metadata": {},
   "outputs": [],
   "source": [
    "import yes_planet"
   ]
  },
  {
   "cell_type": "code",
   "execution_count": 4,
   "metadata": {},
   "outputs": [],
   "source": [
    "movies = yes_planet.get_movies(\"Rishon LeZion\")"
   ]
  },
  {
   "cell_type": "code",
   "execution_count": 10,
   "metadata": {},
   "outputs": [
    {
     "name": "stdout",
     "output_type": "stream",
     "text": [
      "bohemian rhapsody: 8.4/10 (66424)\n",
      "a star is born: 8.3/10 (86149)\n",
      "two tails: 8.2/10 (694)\n",
      "srohim: 8.1/10 (51)\n",
      "mission impossible fallout: 8.0/10 (151443)\n",
      "incredibles 2: 7.9/10 (126164)\n",
      "searching: 7.8/10 (33513)\n",
      "first man: 7.7/10 (44264)\n",
      "what will people say: 7.6/10 (1530)\n",
      "crazy rich asians: 7.4/10 (35399)\n",
      "beautiful boy: 7.3/10 (2972)\n",
      "the other story: 7.1/10 (57)\n",
      "halloween: 7.1/10 (43371)\n",
      "a simple favor: 7.1/10 (24995)\n",
      "papillon: 7.1/10 (9145)\n",
      "hunter killer: 7.0/10 (5660)\n",
      "venom: 7.0/10 (117545)\n",
      "smallfoot: 6.8/10 (5498)\n",
      "the children act: 6.7/10 (3535)\n",
      "virgins: 6.6/10 (52)\n",
      "johnny english strikes again: 6.6/10 (14327)\n",
      "peppermint: 6.6/10 (7332)\n",
      "fleuve noir: 6.3/10 (408)\n",
      "the stolen princess: 6.3/10 (929)\n",
      "hotel transylvania 3 summer vacation: 6.3/10 (26504)\n",
      "the house with a clock in its walls: 6.2/10 (10012)\n",
      "the spy who dumped me: 6.1/10 (25327)\n",
      "luis and his friends from outer space: 6.1/10 (610)\n",
      "charming: 5.9/10 (590)\n",
      "the girl in the spiders web: 5.8/10 (1841)\n",
      "life itself: 5.8/10 (1440)\n",
      "normandie nue: 5.8/10 (308)\n",
      "shock and awe: 5.7/10 (2195)\n",
      "the nutcracker and the four realms: 5.6/10 (4277)\n",
      "night school: 5.6/10 (5406)\n",
      "final score: 5.6/10 (3427)\n",
      "the nun: 5.6/10 (51498)\n",
      "duck duck goose: 5.6/10 (1723)\n",
      "ploey you never fly alone: 5.4/10 (255)\n",
      "acts of violence: 5.2/10 (5962)\n",
      "belleville cop: 4.7/10 (130)\n",
      "norm of the north 2: 4.6/10 (36)\n",
      "911: 4.1/10 (2311)\n",
      "show dogs: 3.5/10 (2850)\n"
     ]
    }
   ],
   "source": [
    "for movie in sorted(movies.values(), reverse=True):\n",
    "    print(movie)"
   ]
  },
  {
   "cell_type": "code",
   "execution_count": null,
   "metadata": {},
   "outputs": [],
   "source": []
  }
 ],
 "metadata": {
  "kernelspec": {
   "display_name": "Python 3",
   "language": "python",
   "name": "python3"
  },
  "language_info": {
   "codemirror_mode": {
    "name": "ipython",
    "version": 3
   },
   "file_extension": ".py",
   "mimetype": "text/x-python",
   "name": "python",
   "nbconvert_exporter": "python",
   "pygments_lexer": "ipython3",
   "version": "3.6.3"
  }
 },
 "nbformat": 4,
 "nbformat_minor": 2
}
